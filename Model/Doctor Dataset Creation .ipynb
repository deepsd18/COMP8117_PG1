{
 "cells": [
  {
   "cell_type": "code",
   "execution_count": null,
   "id": "a2242443",
   "metadata": {},
   "outputs": [],
   "source": [
    "# DATA CLEANING "
   ]
  },
  {
   "cell_type": "code",
   "execution_count": 54,
   "id": "9240af4e",
   "metadata": {},
   "outputs": [],
   "source": [
    "import tensorflow as tf\n",
    "import pandas as pd\n",
    "import numpy as np\n",
    "from collections import defaultdict\n"
   ]
  },
  {
   "cell_type": "code",
   "execution_count": 55,
   "id": "16978e5e",
   "metadata": {},
   "outputs": [],
   "source": [
    "df=pd.read_csv(r\"C:\\Users\\Bhavya\\Desktop\\Master's in Applied Computing\\Project\\Dataset\\zocdoc.csv\")"
   ]
  },
  {
   "cell_type": "code",
   "execution_count": 56,
   "id": "b7f30a06",
   "metadata": {},
   "outputs": [
    {
     "data": {
      "text/html": [
       "<div>\n",
       "<style scoped>\n",
       "    .dataframe tbody tr th:only-of-type {\n",
       "        vertical-align: middle;\n",
       "    }\n",
       "\n",
       "    .dataframe tbody tr th {\n",
       "        vertical-align: top;\n",
       "    }\n",
       "\n",
       "    .dataframe thead th {\n",
       "        text-align: right;\n",
       "    }\n",
       "</style>\n",
       "<table border=\"1\" class=\"dataframe\">\n",
       "  <thead>\n",
       "    <tr style=\"text-align: right;\">\n",
       "      <th></th>\n",
       "      <th>Unnamed: 0</th>\n",
       "      <th>Doctor's Name</th>\n",
       "      <th>speciality</th>\n",
       "    </tr>\n",
       "  </thead>\n",
       "  <tbody>\n",
       "    <tr>\n",
       "      <th>0</th>\n",
       "      <td>0</td>\n",
       "      <td>Diem Truong, LAc, MSTOM</td>\n",
       "      <td>Acupuncturist</td>\n",
       "    </tr>\n",
       "    <tr>\n",
       "      <th>1</th>\n",
       "      <td>1</td>\n",
       "      <td>Monique Rivera, LAc</td>\n",
       "      <td>Acupuncturist</td>\n",
       "    </tr>\n",
       "    <tr>\n",
       "      <th>2</th>\n",
       "      <td>2</td>\n",
       "      <td>Ronald Pratt, LAc, DiplAc, MA, MSAc</td>\n",
       "      <td>Acupuncturist</td>\n",
       "    </tr>\n",
       "    <tr>\n",
       "      <th>3</th>\n",
       "      <td>3</td>\n",
       "      <td>Daniel Camburn, LAc</td>\n",
       "      <td>Acupuncturist</td>\n",
       "    </tr>\n",
       "    <tr>\n",
       "      <th>4</th>\n",
       "      <td>4</td>\n",
       "      <td>Deborah Barbiere, LAc, MSTOM, PsyD</td>\n",
       "      <td>Acupuncturist</td>\n",
       "    </tr>\n",
       "  </tbody>\n",
       "</table>\n",
       "</div>"
      ],
      "text/plain": [
       "   Unnamed: 0                        Doctor's Name     speciality\n",
       "0           0              Diem Truong, LAc, MSTOM  Acupuncturist\n",
       "1           1                  Monique Rivera, LAc  Acupuncturist\n",
       "2           2  Ronald Pratt, LAc, DiplAc, MA, MSAc  Acupuncturist\n",
       "3           3                  Daniel Camburn, LAc  Acupuncturist\n",
       "4           4   Deborah Barbiere, LAc, MSTOM, PsyD  Acupuncturist"
      ]
     },
     "execution_count": 56,
     "metadata": {},
     "output_type": "execute_result"
    }
   ],
   "source": [
    "df.head()"
   ]
  },
  {
   "cell_type": "code",
   "execution_count": 57,
   "id": "551fabe3",
   "metadata": {},
   "outputs": [],
   "source": [
    "df.drop(df.columns[df.columns.str.contains('unnamed',case = False)],axis = 1, inplace = True)"
   ]
  },
  {
   "cell_type": "code",
   "execution_count": 58,
   "id": "2d5d4e6b",
   "metadata": {},
   "outputs": [
    {
     "data": {
      "text/html": [
       "<div>\n",
       "<style scoped>\n",
       "    .dataframe tbody tr th:only-of-type {\n",
       "        vertical-align: middle;\n",
       "    }\n",
       "\n",
       "    .dataframe tbody tr th {\n",
       "        vertical-align: top;\n",
       "    }\n",
       "\n",
       "    .dataframe thead th {\n",
       "        text-align: right;\n",
       "    }\n",
       "</style>\n",
       "<table border=\"1\" class=\"dataframe\">\n",
       "  <thead>\n",
       "    <tr style=\"text-align: right;\">\n",
       "      <th></th>\n",
       "      <th>Doctor's Name</th>\n",
       "      <th>speciality</th>\n",
       "    </tr>\n",
       "  </thead>\n",
       "  <tbody>\n",
       "    <tr>\n",
       "      <th>0</th>\n",
       "      <td>Diem Truong, LAc, MSTOM</td>\n",
       "      <td>Acupuncturist</td>\n",
       "    </tr>\n",
       "    <tr>\n",
       "      <th>1</th>\n",
       "      <td>Monique Rivera, LAc</td>\n",
       "      <td>Acupuncturist</td>\n",
       "    </tr>\n",
       "    <tr>\n",
       "      <th>2</th>\n",
       "      <td>Ronald Pratt, LAc, DiplAc, MA, MSAc</td>\n",
       "      <td>Acupuncturist</td>\n",
       "    </tr>\n",
       "    <tr>\n",
       "      <th>3</th>\n",
       "      <td>Daniel Camburn, LAc</td>\n",
       "      <td>Acupuncturist</td>\n",
       "    </tr>\n",
       "    <tr>\n",
       "      <th>4</th>\n",
       "      <td>Deborah Barbiere, LAc, MSTOM, PsyD</td>\n",
       "      <td>Acupuncturist</td>\n",
       "    </tr>\n",
       "  </tbody>\n",
       "</table>\n",
       "</div>"
      ],
      "text/plain": [
       "                         Doctor's Name     speciality\n",
       "0              Diem Truong, LAc, MSTOM  Acupuncturist\n",
       "1                  Monique Rivera, LAc  Acupuncturist\n",
       "2  Ronald Pratt, LAc, DiplAc, MA, MSAc  Acupuncturist\n",
       "3                  Daniel Camburn, LAc  Acupuncturist\n",
       "4   Deborah Barbiere, LAc, MSTOM, PsyD  Acupuncturist"
      ]
     },
     "execution_count": 58,
     "metadata": {},
     "output_type": "execute_result"
    }
   ],
   "source": [
    "df.head()"
   ]
  },
  {
   "cell_type": "code",
   "execution_count": 63,
   "id": "2a5296b0",
   "metadata": {},
   "outputs": [],
   "source": [
    "df['Rating'] = np.random.randint(1, 5, df.shape[0])"
   ]
  },
  {
   "cell_type": "code",
   "execution_count": 64,
   "id": "19f342e5",
   "metadata": {},
   "outputs": [
    {
     "data": {
      "text/html": [
       "<div>\n",
       "<style scoped>\n",
       "    .dataframe tbody tr th:only-of-type {\n",
       "        vertical-align: middle;\n",
       "    }\n",
       "\n",
       "    .dataframe tbody tr th {\n",
       "        vertical-align: top;\n",
       "    }\n",
       "\n",
       "    .dataframe thead th {\n",
       "        text-align: right;\n",
       "    }\n",
       "</style>\n",
       "<table border=\"1\" class=\"dataframe\">\n",
       "  <thead>\n",
       "    <tr style=\"text-align: right;\">\n",
       "      <th></th>\n",
       "      <th>Doctor's Name</th>\n",
       "      <th>speciality</th>\n",
       "      <th>Rating</th>\n",
       "    </tr>\n",
       "  </thead>\n",
       "  <tbody>\n",
       "    <tr>\n",
       "      <th>0</th>\n",
       "      <td>Diem Truong, LAc, MSTOM</td>\n",
       "      <td>Acupuncturist</td>\n",
       "      <td>3</td>\n",
       "    </tr>\n",
       "    <tr>\n",
       "      <th>1</th>\n",
       "      <td>Monique Rivera, LAc</td>\n",
       "      <td>Acupuncturist</td>\n",
       "      <td>1</td>\n",
       "    </tr>\n",
       "    <tr>\n",
       "      <th>2</th>\n",
       "      <td>Ronald Pratt, LAc, DiplAc, MA, MSAc</td>\n",
       "      <td>Acupuncturist</td>\n",
       "      <td>3</td>\n",
       "    </tr>\n",
       "    <tr>\n",
       "      <th>3</th>\n",
       "      <td>Daniel Camburn, LAc</td>\n",
       "      <td>Acupuncturist</td>\n",
       "      <td>1</td>\n",
       "    </tr>\n",
       "    <tr>\n",
       "      <th>4</th>\n",
       "      <td>Deborah Barbiere, LAc, MSTOM, PsyD</td>\n",
       "      <td>Acupuncturist</td>\n",
       "      <td>3</td>\n",
       "    </tr>\n",
       "  </tbody>\n",
       "</table>\n",
       "</div>"
      ],
      "text/plain": [
       "                         Doctor's Name     speciality  Rating\n",
       "0              Diem Truong, LAc, MSTOM  Acupuncturist       3\n",
       "1                  Monique Rivera, LAc  Acupuncturist       1\n",
       "2  Ronald Pratt, LAc, DiplAc, MA, MSAc  Acupuncturist       3\n",
       "3                  Daniel Camburn, LAc  Acupuncturist       1\n",
       "4   Deborah Barbiere, LAc, MSTOM, PsyD  Acupuncturist       3"
      ]
     },
     "execution_count": 64,
     "metadata": {},
     "output_type": "execute_result"
    }
   ],
   "source": [
    "df.head()"
   ]
  },
  {
   "cell_type": "code",
   "execution_count": 65,
   "id": "53135772",
   "metadata": {},
   "outputs": [
    {
     "name": "stdout",
     "output_type": "stream",
     "text": [
      "<class 'pandas.core.frame.DataFrame'>\n",
      "RangeIndex: 9298 entries, 0 to 9297\n",
      "Data columns (total 3 columns):\n",
      " #   Column         Non-Null Count  Dtype \n",
      "---  ------         --------------  ----- \n",
      " 0   Doctor's Name  9298 non-null   object\n",
      " 1   speciality     9298 non-null   object\n",
      " 2   Rating         9298 non-null   int32 \n",
      "dtypes: int32(1), object(2)\n",
      "memory usage: 181.7+ KB\n"
     ]
    }
   ],
   "source": [
    "df.info()"
   ]
  },
  {
   "cell_type": "code",
   "execution_count": 69,
   "id": "064653e8",
   "metadata": {},
   "outputs": [],
   "source": [
    "df.to_csv(r\"C:\\Users\\Bhavya\\Desktop\\Master's in Applied Computing\\Project\\Dataset\\cleaned_zocdoc.csv\")"
   ]
  },
  {
   "cell_type": "code",
   "execution_count": null,
   "id": "93b254e8",
   "metadata": {},
   "outputs": [],
   "source": []
  }
 ],
 "metadata": {
  "kernelspec": {
   "display_name": "Python 3 (ipykernel)",
   "language": "python",
   "name": "python3"
  },
  "language_info": {
   "codemirror_mode": {
    "name": "ipython",
    "version": 3
   },
   "file_extension": ".py",
   "mimetype": "text/x-python",
   "name": "python",
   "nbconvert_exporter": "python",
   "pygments_lexer": "ipython3",
   "version": "3.9.7"
  }
 },
 "nbformat": 4,
 "nbformat_minor": 5
}
